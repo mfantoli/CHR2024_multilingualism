{
 "cells": [
  {
   "cell_type": "code",
   "execution_count": null,
   "id": "e6de6d7b",
   "metadata": {},
   "outputs": [],
   "source": [
    "import pandas as pd\n",
    "import numpy as np\n",
    "from sklearn.linear_model import LogisticRegression\n",
    "from sklearn.model_selection import cross_val_score, StratifiedKFold\n",
    "from sklearn.feature_extraction.text import TfidfVectorizer\n",
    "from sklearn.metrics import accuracy_score\n",
    "from scipy.sparse import hstack\n",
    "from matplotlib import pyplot as plt\n",
    "import seaborn as sns\n",
    "from sklearn.model_selection import train_test_split\n",
    "from sklearn.metrics import classification_report\n",
    "from sklearn.model_selection import GridSearchCV\n",
    "from sklearn.pipeline import Pipeline\n",
    "from sklearn.svm import LinearSVC\n",
    "from collections import Counter\n",
    "from imblearn.under_sampling import TomekLinks\n",
    "from collections import Counter\n",
    "import string"
   ]
  },
  {
   "cell_type": "markdown",
   "id": "c603c304",
   "metadata": {},
   "source": [
    "## Import data"
   ]
  },
  {
   "cell_type": "code",
   "execution_count": null,
   "id": "55bb225c",
   "metadata": {},
   "outputs": [],
   "source": [
    "path='data/mono_multi/'"
   ]
  },
  {
   "cell_type": "code",
   "execution_count": null,
   "id": "926d0633",
   "metadata": {},
   "outputs": [],
   "source": [
    "#data import\n",
    "train_data_ecco=pd.read_csv(path+'ecco_train.csv')\n",
    "train_data_ecco['ecco_full_title']=train_data_ecco['ecco_full_title'].str.translate(str.maketrans(\"\", \"\", string.punctuation)).str.lower()\n",
    "test_data_ecco=pd.read_csv(path+'ecco_test.csv')\n",
    "test_data_ecco['ecco_full_title']=test_data_ecco['ecco_full_title'].str.translate(str.maketrans(\"\", \"\", string.punctuation)).str.lower()\n",
    "train_data_caa=pd.read_csv(path+'caa_train_df.csv')\n",
    "train_data_caa['title']=train_data_caa['title'].str.translate(str.maketrans(\"\", \"\", string.punctuation)).str.lower()\n",
    "test_data_caa=pd.read_csv(path+'caa_test_df.csv')\n",
    "test_data_caa['title']=test_data_caa['title'].str.translate(str.maketrans(\"\", \"\", string.punctuation)).str.lower()\n",
    "balanced_train_data_caa=pd.read_csv(path+'balanced_caa_train_df.csv')\n",
    "balanced_train_data_caa['title']=balanced_train_data_caa['title'].str.translate(str.maketrans(\"\", \"\", string.punctuation)).str.lower()\n",
    "balanced_test_data_caa=pd.read_csv(path+'balanced_caa_test_df.csv')\n",
    "balanced_test_data_caa['title']=balanced_test_data_caa['title'].str.translate(str.maketrans(\"\", \"\", string.punctuation)).str.lower()\n",
    "combined_train_data=pd.read_csv(path+'combined_train.csv')\n",
    "combined_train_data['title']=combined_train_data['title'].str.translate(str.maketrans(\"\", \"\", string.punctuation)).str.lower()\n",
    "combined_test_data=pd.read_csv(path+'combined_test.csv')\n",
    "combined_test_data['title']=combined_test_data['title'].str.translate(str.maketrans(\"\", \"\", string.punctuation)).str.lower()"
   ]
  },
  {
   "cell_type": "code",
   "execution_count": null,
   "id": "802725e0",
   "metadata": {},
   "outputs": [],
   "source": [
    "combined_ecco=pd.concat([train_data_ecco,test_data_ecco])"
   ]
  },
  {
   "cell_type": "code",
   "execution_count": null,
   "id": "19671b0a",
   "metadata": {},
   "outputs": [],
   "source": [
    "# Concatenate test and train data\n",
    "combined_test_train = pd.concat([combined_test_data, combined_train_data])\n",
    "\n",
    "# Tokenize the text and remove punctuation\n",
    "def preprocess_text(text):\n",
    "    # Remove punctuation using string.punctuation\n",
    "    cleaned_text = text.translate(str.maketrans(\"\", \"\", string.punctuation))\n",
    "    return [word for word in cleaned_text.lower().split()]\n",
    "\n",
    "tokens_cleaned = combined_test_train['title'].apply(preprocess_text)\n",
    "\n",
    "# Calculate word frequencies\n",
    "word_counts = Counter(word for sublist in tokens_cleaned for word in sublist)\n",
    "\n",
    "# Initialize presence_counts dictionary\n",
    "presence_counts = {}\n",
    "\n",
    "# Check if the word is not in word_counts and calculate presence count\n",
    "for sublist in tokens_cleaned:\n",
    "    for word in sublist:\n",
    "        if word not in word_counts:\n",
    "            presence_counts[word] = len(combined_test_train[combined_test_train['title'].str.lower().apply(lambda x: word in x)])\n",
    "\n",
    "# Filter based on frequency and proportion\n",
    "n_titles = len(combined_test_train)\n",
    "common_vocabulary = [word for word, count in word_counts.items() if 1 < count <= 0.8 * n_titles and word not in presence_counts]"
   ]
  },
  {
   "cell_type": "markdown",
   "id": "ac593774",
   "metadata": {},
   "source": [
    "# Train on ECCO, test on ECCO for monolingual vs multilingual"
   ]
  },
  {
   "cell_type": "code",
   "execution_count": null,
   "id": "99a04cd3",
   "metadata": {},
   "outputs": [],
   "source": [
    "train_data=train_data_ecco\n",
    "id_field=\"estc_id\"\n",
    "source_field=\"ecco_full_title\"\n",
    "target_field=\"monolingual\""
   ]
  },
  {
   "cell_type": "code",
   "execution_count": null,
   "id": "3ff35e76",
   "metadata": {},
   "outputs": [],
   "source": [
    "x_train=train_data[['estc_id', 'ecco_full_title']]\n",
    "y_train=train_data[target_field]"
   ]
  },
  {
   "cell_type": "code",
   "execution_count": null,
   "id": "bca19591",
   "metadata": {},
   "outputs": [],
   "source": [
    "# Define a pipeline to search for the best combination of TFidf vectorizer and logistic regression\n",
    "\n",
    "pipeline = Pipeline([\n",
    "    ('tfidf', TfidfVectorizer(vocabulary=common_vocabulary, lowercase=True)),\n",
    "    ('clf', LinearSVC())\n",
    "])\n",
    "\n",
    "# Parameters of pipelines can be set using '__' separated parameter names:\n",
    "param_grid = {\n",
    "    'tfidf__ngram_range': [(1, 1), (1, 2), (1, 3), (2, 2), (2, 3)],\n",
    "    'clf__penalty': ['l1', 'l2', 'elasticnet', None],\n",
    "    'clf__class_weight': [None, 'balanced'],\n",
    "}\n",
    "search = GridSearchCV(pipeline, param_grid)\n",
    "search.fit(x_train[source_field], y_train)\n",
    "print(\"Best parameter (CV score=%0.3f):\" % search.best_score_)\n",
    "print(search.best_params_)"
   ]
  },
  {
   "cell_type": "code",
   "execution_count": null,
   "id": "272c357f",
   "metadata": {},
   "outputs": [],
   "source": [
    "clf__class_weight='balanced'\n",
    "clf__penalty= 'l2' \n",
    "tfidf__ngram_range= (1, 1)"
   ]
  },
  {
   "cell_type": "markdown",
   "id": "3c3502ab",
   "metadata": {},
   "source": [
    "## I now do the prediction based on the best hyperparameters"
   ]
  },
  {
   "cell_type": "code",
   "execution_count": null,
   "id": "91549de5",
   "metadata": {},
   "outputs": [],
   "source": [
    "text_transformer = TfidfVectorizer(vocabulary=common_vocabulary, ngram_range=tfidf__ngram_range, lowercase=True, max_features=150000)\n",
    "clf= LinearSVC(class_weight=clf__class_weight, penalty=clf__penalty)"
   ]
  },
  {
   "cell_type": "code",
   "execution_count": null,
   "id": "40259183",
   "metadata": {},
   "outputs": [],
   "source": [
    "x_test=test_data_ecco[[id_field, source_field]]\n",
    "y_test=test_data_ecco[target_field]"
   ]
  },
  {
   "cell_type": "code",
   "execution_count": null,
   "id": "c8435c6c",
   "metadata": {},
   "outputs": [],
   "source": [
    "X_train_text = text_transformer.fit_transform(x_train[source_field])\n",
    "X_test_text = text_transformer.transform(x_test[source_field])"
   ]
  },
  {
   "cell_type": "code",
   "execution_count": null,
   "id": "7a3984c4",
   "metadata": {},
   "outputs": [],
   "source": [
    "clf.fit(X_train_text, y_train)\n",
    "test_preds = clf.predict(X_test_text)"
   ]
  },
  {
   "cell_type": "code",
   "execution_count": null,
   "id": "f6aa8fea",
   "metadata": {},
   "outputs": [],
   "source": [
    "print(classification_report(y_test, test_preds))"
   ]
  },
  {
   "cell_type": "code",
   "execution_count": null,
   "id": "ca6cdd1b",
   "metadata": {},
   "outputs": [],
   "source": [
    "accuracy_score(y_test, test_preds)"
   ]
  },
  {
   "cell_type": "markdown",
   "id": "36bf0c0a",
   "metadata": {},
   "source": [
    "## I now do the prediction on caa"
   ]
  },
  {
   "cell_type": "code",
   "execution_count": null,
   "id": "4fc719fa",
   "metadata": {},
   "outputs": [],
   "source": [
    "id_field=\"RecordID\"\n",
    "source_field=\"title\"\n",
    "target_field=\"monolingual\""
   ]
  },
  {
   "cell_type": "code",
   "execution_count": null,
   "id": "da04294e",
   "metadata": {},
   "outputs": [],
   "source": [
    "x_test=test_data_caa[[id_field, source_field]]\n",
    "y_test=test_data_caa[target_field]\n",
    "x_test_balanced=balanced_test_data_caa[[id_field, source_field]]\n",
    "y_test_balanced=balanced_test_data_caa[target_field]"
   ]
  },
  {
   "cell_type": "code",
   "execution_count": null,
   "id": "94dd4d39",
   "metadata": {},
   "outputs": [],
   "source": [
    "X_test_caa = text_transformer.transform(x_test[source_field])\n",
    "X_balanced_test_caa=text_transformer.transform(x_test_balanced[source_field])"
   ]
  },
  {
   "cell_type": "code",
   "execution_count": null,
   "id": "6e1a5f41",
   "metadata": {},
   "outputs": [],
   "source": [
    "y_preds_caa = clf.predict(X_test_caa)\n",
    "y_preds_balanced=clf.predict(X_balanced_test_caa)"
   ]
  },
  {
   "cell_type": "code",
   "execution_count": null,
   "id": "2603d065",
   "metadata": {},
   "outputs": [],
   "source": [
    "print(classification_report(y_test, y_preds_caa))"
   ]
  },
  {
   "cell_type": "code",
   "execution_count": null,
   "id": "49a7c8f8",
   "metadata": {},
   "outputs": [],
   "source": [
    "print(classification_report(y_test_balanced, y_preds_balanced))"
   ]
  },
  {
   "cell_type": "code",
   "execution_count": null,
   "id": "e8cc75dc",
   "metadata": {},
   "outputs": [],
   "source": [
    "y_preds_balanced"
   ]
  },
  {
   "cell_type": "code",
   "execution_count": null,
   "id": "1a87f070",
   "metadata": {},
   "outputs": [],
   "source": [
    "accuracy_score(y_test, y_preds_caa)"
   ]
  },
  {
   "cell_type": "code",
   "execution_count": null,
   "id": "ce30a311",
   "metadata": {},
   "outputs": [],
   "source": [
    "accuracy_score(y_test_balanced, y_preds_balanced)"
   ]
  },
  {
   "cell_type": "markdown",
   "id": "79c05ab3",
   "metadata": {},
   "source": [
    "## I test on the combined dataset"
   ]
  },
  {
   "cell_type": "code",
   "execution_count": null,
   "id": "10e5b127",
   "metadata": {},
   "outputs": [],
   "source": [
    "id_field=\"id\"\n",
    "source_field=\"title\"\n",
    "target_field=\"monolingual\""
   ]
  },
  {
   "cell_type": "code",
   "execution_count": null,
   "id": "73ef38a4",
   "metadata": {},
   "outputs": [],
   "source": [
    "x_test=combined_test_data[[id_field, source_field]]\n",
    "y_test=combined_test_data[target_field]"
   ]
  },
  {
   "cell_type": "code",
   "execution_count": null,
   "id": "e69ea413",
   "metadata": {},
   "outputs": [],
   "source": [
    "X_test = text_transformer.transform(x_test[source_field])\n",
    "y_preds = clf.predict(X_test)"
   ]
  },
  {
   "cell_type": "code",
   "execution_count": null,
   "id": "afa3d74a",
   "metadata": {},
   "outputs": [],
   "source": [
    "print(classification_report(y_test, y_preds))"
   ]
  },
  {
   "cell_type": "code",
   "execution_count": null,
   "id": "786f0ee2",
   "metadata": {},
   "outputs": [],
   "source": [
    "accuracy_score(y_test, y_preds)"
   ]
  },
  {
   "cell_type": "markdown",
   "id": "6687b55c",
   "metadata": {},
   "source": [
    "## I train and predict on CAA"
   ]
  },
  {
   "cell_type": "code",
   "execution_count": null,
   "id": "de667a08",
   "metadata": {},
   "outputs": [],
   "source": [
    "train_data=train_data_caa"
   ]
  },
  {
   "cell_type": "code",
   "execution_count": null,
   "id": "794e6cb7",
   "metadata": {},
   "outputs": [],
   "source": [
    "id_field=\"RecordID\"\n",
    "source_field=\"title\"\n",
    "target_field=\"monolingual\"\n",
    "x_train=train_data[[id_field, source_field]]\n",
    "y_train=train_data[target_field]"
   ]
  },
  {
   "cell_type": "code",
   "execution_count": null,
   "id": "89943e95",
   "metadata": {},
   "outputs": [],
   "source": [
    "# Define a pipeline to search for the best combination of TFidf vectorizer and logistic regression\n",
    "\n",
    "pipeline = Pipeline([\n",
    "    ('tfidf', TfidfVectorizer(vocabulary=common_vocabulary, lowercase=True)),\n",
    "    ('clf', LinearSVC())\n",
    "])\n",
    "\n",
    "# Parameters of pipelines can be set using '__' separated parameter names:\n",
    "param_grid = {\n",
    "    'tfidf__ngram_range': [(1, 1), (1, 2), (1, 3), (2, 2), (2, 3)],\n",
    "    'clf__penalty': ['l1', 'l2', 'elasticnet', None],\n",
    "    'clf__class_weight': [None, 'balanced'],\n",
    "}\n",
    "search = GridSearchCV(pipeline, param_grid)\n",
    "search.fit(x_train[source_field], y_train)\n",
    "print(\"Best parameter (CV score=%0.3f):\" % search.best_score_)\n",
    "print(search.best_params_)"
   ]
  },
  {
   "cell_type": "markdown",
   "id": "3eb12a23",
   "metadata": {},
   "source": [
    "Best parameter (CV score=0.978):\n",
    "{'clf__class_weight': 'balanced', 'clf__penalty': 'l2', 'tfidf__max_df': 0.7, 'tfidf__min_df': 2, 'tfidf__ngram_range': (1, 3)}"
   ]
  },
  {
   "cell_type": "code",
   "execution_count": null,
   "id": "0f99d83f",
   "metadata": {},
   "outputs": [],
   "source": [
    "clf__class_weight='balanced'\n",
    "clf__penalty= 'l2' \n",
    "tfidf__ngram_range= (1, 1)"
   ]
  },
  {
   "cell_type": "markdown",
   "id": "77a7400f",
   "metadata": {},
   "source": [
    "### I now do the prediction based on the best hyperparameters"
   ]
  },
  {
   "cell_type": "code",
   "execution_count": null,
   "id": "9fc670cf",
   "metadata": {},
   "outputs": [],
   "source": [
    "text_transformer = TfidfVectorizer(vocabulary=common_vocabulary, ngram_range=tfidf__ngram_range, lowercase=True, max_features=150000)\n",
    "clf= LinearSVC(class_weight=clf__class_weight, penalty=clf__penalty)"
   ]
  },
  {
   "cell_type": "code",
   "execution_count": null,
   "id": "5b7820a4",
   "metadata": {},
   "outputs": [],
   "source": [
    "x_test=test_data_caa[[id_field, source_field]]\n",
    "y_test=test_data_caa[target_field]"
   ]
  },
  {
   "cell_type": "code",
   "execution_count": null,
   "id": "38e0f0d7",
   "metadata": {},
   "outputs": [],
   "source": [
    "X_train_text = text_transformer.fit_transform(x_train[source_field])\n",
    "X_test_text = text_transformer.transform(x_test[source_field])\n",
    "clf.fit(X_train_text, y_train)"
   ]
  },
  {
   "cell_type": "code",
   "execution_count": null,
   "id": "31645a1a",
   "metadata": {},
   "outputs": [],
   "source": [
    "x_test=test_data_caa[[id_field, source_field]]\n",
    "y_test=test_data_caa[target_field]\n",
    "x_test_balanced=balanced_test_data_caa[[id_field, source_field]]\n",
    "y_test_balanced=balanced_test_data_caa[target_field]"
   ]
  },
  {
   "cell_type": "code",
   "execution_count": null,
   "id": "a4e3f81f",
   "metadata": {},
   "outputs": [],
   "source": [
    "X_test_caa = text_transformer.transform(x_test[source_field])\n",
    "X_balanced_test_caa=text_transformer.transform(x_test_balanced[source_field])"
   ]
  },
  {
   "cell_type": "code",
   "execution_count": null,
   "id": "fa446a2f",
   "metadata": {},
   "outputs": [],
   "source": [
    "y_preds_caa = clf.predict(X_test_caa)\n",
    "y_preds_balanced=clf.predict(X_balanced_test_caa)"
   ]
  },
  {
   "cell_type": "code",
   "execution_count": null,
   "id": "de97ee01",
   "metadata": {},
   "outputs": [],
   "source": [
    "print(classification_report(y_test, y_preds_caa))"
   ]
  },
  {
   "cell_type": "code",
   "execution_count": null,
   "id": "e5432210",
   "metadata": {},
   "outputs": [],
   "source": [
    "print(classification_report(y_test_balanced, y_preds_balanced))"
   ]
  },
  {
   "cell_type": "code",
   "execution_count": null,
   "id": "34f58a78",
   "metadata": {},
   "outputs": [],
   "source": [
    "accuracy_score(y_test, y_preds_caa)"
   ]
  },
  {
   "cell_type": "code",
   "execution_count": null,
   "id": "9cca8e87",
   "metadata": {},
   "outputs": [],
   "source": [
    "accuracy_score(y_test_balanced, y_preds_balanced)"
   ]
  },
  {
   "cell_type": "markdown",
   "id": "05e45e5d",
   "metadata": {},
   "source": [
    "### I test on ECCO"
   ]
  },
  {
   "cell_type": "code",
   "execution_count": null,
   "id": "07d222ae",
   "metadata": {},
   "outputs": [],
   "source": [
    "id_field=\"estc_id\"\n",
    "source_field=\"ecco_full_title\"\n",
    "target_field=\"monolingual\""
   ]
  },
  {
   "cell_type": "code",
   "execution_count": null,
   "id": "bbbe61b2",
   "metadata": {},
   "outputs": [],
   "source": [
    "x_test=test_data_ecco[[id_field, source_field]]\n",
    "y_test=test_data_ecco[target_field]"
   ]
  },
  {
   "cell_type": "code",
   "execution_count": null,
   "id": "af2ee809",
   "metadata": {},
   "outputs": [],
   "source": [
    "X_test_text = text_transformer.transform(x_test[source_field])"
   ]
  },
  {
   "cell_type": "code",
   "execution_count": null,
   "id": "0f7b7bee",
   "metadata": {},
   "outputs": [],
   "source": [
    "test_preds=clf.predict(X_test_text)"
   ]
  },
  {
   "cell_type": "code",
   "execution_count": null,
   "id": "6a9089b1",
   "metadata": {},
   "outputs": [],
   "source": [
    "print(classification_report(y_test, test_preds))"
   ]
  },
  {
   "cell_type": "code",
   "execution_count": null,
   "id": "f4dfc559",
   "metadata": {},
   "outputs": [],
   "source": [
    "accuracy_score(y_test, test_preds)"
   ]
  },
  {
   "cell_type": "markdown",
   "id": "fe8ab656",
   "metadata": {},
   "source": [
    "## I test on the combined dataset"
   ]
  },
  {
   "cell_type": "code",
   "execution_count": null,
   "id": "910a835f",
   "metadata": {},
   "outputs": [],
   "source": [
    "id_field=\"id\"\n",
    "source_field=\"title\"\n",
    "target_field=\"monolingual\""
   ]
  },
  {
   "cell_type": "code",
   "execution_count": null,
   "id": "16f88853",
   "metadata": {},
   "outputs": [],
   "source": [
    "x_test=combined_test_data[[id_field, source_field]]\n",
    "y_test=combined_test_data[target_field]"
   ]
  },
  {
   "cell_type": "code",
   "execution_count": null,
   "id": "7ed0c933",
   "metadata": {},
   "outputs": [],
   "source": [
    "X_test = text_transformer.transform(x_test[source_field])\n",
    "y_preds = clf.predict(X_test)"
   ]
  },
  {
   "cell_type": "code",
   "execution_count": null,
   "id": "fb8bdd80",
   "metadata": {},
   "outputs": [],
   "source": [
    "print(classification_report(y_test, y_preds))"
   ]
  },
  {
   "cell_type": "code",
   "execution_count": null,
   "id": "dfa12581",
   "metadata": {},
   "outputs": [],
   "source": [
    "accuracy_score(y_test, y_preds)"
   ]
  },
  {
   "cell_type": "markdown",
   "id": "56734231",
   "metadata": {},
   "source": [
    "\n",
    "## I train on the combined and test on each one singularly"
   ]
  },
  {
   "cell_type": "code",
   "execution_count": null,
   "id": "70d4d43d",
   "metadata": {},
   "outputs": [],
   "source": [
    "train_data=combined_train_data"
   ]
  },
  {
   "cell_type": "code",
   "execution_count": null,
   "id": "cb67de00",
   "metadata": {},
   "outputs": [],
   "source": [
    "id_field=\"id\"\n",
    "source_field=\"title\"\n",
    "target_field=\"monolingual\""
   ]
  },
  {
   "cell_type": "code",
   "execution_count": null,
   "id": "4e51c9fb",
   "metadata": {},
   "outputs": [],
   "source": [
    "x_train=train_data[[id_field,source_field]]\n",
    "y_train=train_data[target_field]"
   ]
  },
  {
   "cell_type": "code",
   "execution_count": null,
   "id": "9115555e",
   "metadata": {},
   "outputs": [],
   "source": [
    "# Define a pipeline to search for the best combination of TFidf vectorizer and logistic regression\n",
    "\n",
    "pipeline = Pipeline([\n",
    "    ('tfidf', TfidfVectorizer(vocabulary=common_vocabulary, lowercase=True)),\n",
    "    ('clf', LinearSVC())\n",
    "])\n",
    "\n",
    "# Parameters of pipelines can be set using '__' separated parameter names:\n",
    "param_grid = {\n",
    "    'tfidf__ngram_range': [(1, 1), (1, 2), (1, 3), (2, 2), (2, 3)],\n",
    "    'clf__penalty': ['l1', 'l2', 'elasticnet', None],\n",
    "    'clf__class_weight': [None, 'balanced'],\n",
    "}\n",
    "search = GridSearchCV(pipeline, param_grid)\n",
    "search.fit(x_train[source_field], y_train)\n",
    "print(\"Best parameter (CV score=%0.3f):\" % search.best_score_)\n",
    "print(search.best_params_)"
   ]
  },
  {
   "cell_type": "code",
   "execution_count": null,
   "id": "2905dc78",
   "metadata": {},
   "outputs": [],
   "source": [
    "clf__class_weight=None\n",
    "clf__penalty= 'l2' \n",
    "tfidf__ngram_range= (1, 1)"
   ]
  },
  {
   "cell_type": "markdown",
   "id": "e1fee9ce",
   "metadata": {},
   "source": [
    "## I now do the prediction based on the best hyperparameters"
   ]
  },
  {
   "cell_type": "code",
   "execution_count": null,
   "id": "fd61f45c",
   "metadata": {},
   "outputs": [],
   "source": [
    "text_transformer = TfidfVectorizer(vocabulary=common_vocabulary, ngram_range=tfidf__ngram_range, lowercase=True, max_features=150000)\n",
    "clf= LinearSVC(class_weight=clf__class_weight, penalty=clf__penalty)"
   ]
  },
  {
   "cell_type": "code",
   "execution_count": null,
   "id": "eedab33d",
   "metadata": {},
   "outputs": [],
   "source": [
    "x_test=combined_test_data[[id_field, source_field]]\n",
    "y_test=combined_test_data[[target_field, 'source']]"
   ]
  },
  {
   "cell_type": "code",
   "execution_count": null,
   "id": "e46d579d",
   "metadata": {},
   "outputs": [],
   "source": [
    "X_train_text = text_transformer.fit_transform(x_train[source_field])\n",
    "X_test_text = text_transformer.transform(x_test[source_field])"
   ]
  },
  {
   "cell_type": "code",
   "execution_count": null,
   "id": "d3b4309e",
   "metadata": {},
   "outputs": [],
   "source": [
    "clf.fit(X_train_text, y_train)\n",
    "test_preds = clf.predict(X_test_text)"
   ]
  },
  {
   "cell_type": "code",
   "execution_count": null,
   "id": "1a9ed21d",
   "metadata": {},
   "outputs": [],
   "source": [
    "print(classification_report(y_test[target_field], test_preds))"
   ]
  },
  {
   "cell_type": "code",
   "execution_count": null,
   "id": "a7d1b767",
   "metadata": {},
   "outputs": [],
   "source": [
    "accuracy_score(y_test[target_field], test_preds)"
   ]
  },
  {
   "cell_type": "markdown",
   "id": "852354e3",
   "metadata": {},
   "source": [
    "### I test on ECCO"
   ]
  },
  {
   "cell_type": "code",
   "execution_count": null,
   "id": "008c8508",
   "metadata": {},
   "outputs": [],
   "source": [
    "id_field=\"estc_id\"\n",
    "source_field=\"ecco_full_title\"\n",
    "target_field=\"monolingual\""
   ]
  },
  {
   "cell_type": "code",
   "execution_count": null,
   "id": "ae4080c5",
   "metadata": {},
   "outputs": [],
   "source": [
    "x_test=test_data_ecco[[id_field, source_field]]\n",
    "y_test=test_data_ecco[target_field]"
   ]
  },
  {
   "cell_type": "code",
   "execution_count": null,
   "id": "704f49a2",
   "metadata": {},
   "outputs": [],
   "source": [
    "X_test_text = text_transformer.transform(x_test[source_field])\n",
    "test_preds=clf.predict(X_test_text)"
   ]
  },
  {
   "cell_type": "code",
   "execution_count": null,
   "id": "a768c2ca",
   "metadata": {},
   "outputs": [],
   "source": [
    "print(classification_report(y_test, test_preds))"
   ]
  },
  {
   "cell_type": "code",
   "execution_count": null,
   "id": "1832116a",
   "metadata": {},
   "outputs": [],
   "source": [
    "accuracy_score(y_test, test_preds)"
   ]
  },
  {
   "cell_type": "markdown",
   "id": "9301aa58",
   "metadata": {},
   "source": [
    "### I test on unbalanced caa"
   ]
  },
  {
   "cell_type": "code",
   "execution_count": null,
   "id": "a6533d74",
   "metadata": {},
   "outputs": [],
   "source": [
    "id_field=\"RecordID\"\n",
    "source_field=\"title\"\n",
    "target_field=\"monolingual\""
   ]
  },
  {
   "cell_type": "code",
   "execution_count": null,
   "id": "62874ef8",
   "metadata": {},
   "outputs": [],
   "source": [
    "x_test=test_data_caa[[id_field, source_field]]\n",
    "y_test=test_data_caa[target_field]"
   ]
  },
  {
   "cell_type": "code",
   "execution_count": null,
   "id": "440be501",
   "metadata": {},
   "outputs": [],
   "source": [
    "X_test_text = text_transformer.transform(x_test[source_field])\n",
    "test_preds=clf.predict(X_test_text)"
   ]
  },
  {
   "cell_type": "code",
   "execution_count": null,
   "id": "ed808547",
   "metadata": {},
   "outputs": [],
   "source": [
    "print(classification_report(y_test, test_preds))"
   ]
  },
  {
   "cell_type": "code",
   "execution_count": null,
   "id": "4ddc56e6",
   "metadata": {},
   "outputs": [],
   "source": [
    "accuracy_score(y_test, test_preds)"
   ]
  },
  {
   "cell_type": "markdown",
   "id": "8ee76a7a",
   "metadata": {},
   "source": [
    "## I test on balanced CAA"
   ]
  },
  {
   "cell_type": "code",
   "execution_count": null,
   "id": "b5351227",
   "metadata": {},
   "outputs": [],
   "source": [
    "id_field=\"RecordID\"\n",
    "source_field=\"title\"\n",
    "target_field=\"monolingual\""
   ]
  },
  {
   "cell_type": "code",
   "execution_count": null,
   "id": "59925647",
   "metadata": {},
   "outputs": [],
   "source": [
    "x_test=balanced_test_data_caa[[id_field, source_field]]\n",
    "y_test=balanced_test_data_caa[target_field]"
   ]
  },
  {
   "cell_type": "code",
   "execution_count": null,
   "id": "ef4988bf",
   "metadata": {},
   "outputs": [],
   "source": [
    "X_test_text = text_transformer.transform(x_test[source_field])\n",
    "test_preds=clf.predict(X_test_text)"
   ]
  },
  {
   "cell_type": "code",
   "execution_count": null,
   "id": "0de1fbb6",
   "metadata": {},
   "outputs": [],
   "source": [
    "print(classification_report(y_test, test_preds))"
   ]
  },
  {
   "cell_type": "code",
   "execution_count": null,
   "id": "16322113",
   "metadata": {},
   "outputs": [],
   "source": [
    "accuracy_score(y_test, test_preds)"
   ]
  },
  {
   "cell_type": "markdown",
   "id": "44b479d0",
   "metadata": {},
   "source": [
    "## I now redo the pipeline for CAA by sampling the data for more balanced classes"
   ]
  },
  {
   "cell_type": "code",
   "execution_count": null,
   "id": "a2c280d6",
   "metadata": {},
   "outputs": [],
   "source": [
    "train_data=balanced_train_data_caa"
   ]
  },
  {
   "cell_type": "code",
   "execution_count": null,
   "id": "4300d6a7",
   "metadata": {},
   "outputs": [],
   "source": [
    "id_field=\"RecordID\"\n",
    "source_field=\"title\"\n",
    "target_field=\"monolingual\""
   ]
  },
  {
   "cell_type": "code",
   "execution_count": null,
   "id": "cc561e6a",
   "metadata": {},
   "outputs": [],
   "source": [
    "x_train=train_data[[id_field, source_field]]\n",
    "y_train=train_data[target_field]"
   ]
  },
  {
   "cell_type": "code",
   "execution_count": null,
   "id": "15993383",
   "metadata": {},
   "outputs": [],
   "source": [
    "# Define a pipeline to search for the best combination of TFidf vectorizer and logistic regression\n",
    "\n",
    "pipeline = Pipeline([\n",
    "    ('tfidf', TfidfVectorizer(vocabulary=common_vocabulary, lowercase=True)),\n",
    "    ('clf', LinearSVC())\n",
    "])\n",
    "\n",
    "# Parameters of pipelines can be set using '__' separated parameter names:\n",
    "param_grid = {\n",
    "    'tfidf__ngram_range': [(1, 1), (1, 2), (1, 3), (2, 2), (2, 3)],\n",
    "    'clf__penalty': ['l1', 'l2', 'elasticnet', None],\n",
    "    'clf__class_weight': [None, 'balanced'],\n",
    "}\n",
    "search = GridSearchCV(pipeline, param_grid)\n",
    "search.fit(x_train[source_field], y_train)\n",
    "print(\"Best parameter (CV score=%0.3f):\" % search.best_score_)\n",
    "print(search.best_params_)"
   ]
  },
  {
   "cell_type": "markdown",
   "id": "0cd79f07",
   "metadata": {},
   "source": [
    "Best parameter (CV score=0.978):\n",
    "{'clf__class_weight': 'balanced', 'clf__penalty': 'l2', 'tfidf__max_df': 0.7, 'tfidf__min_df': 2, 'tfidf__ngram_range': (1, 3)}"
   ]
  },
  {
   "cell_type": "code",
   "execution_count": null,
   "id": "866c2e0c",
   "metadata": {},
   "outputs": [],
   "source": [
    "clf__class_weight=None\n",
    "clf__penalty= 'l2' \n",
    "tfidf__ngram_range= (1, 1)"
   ]
  },
  {
   "cell_type": "markdown",
   "id": "423f12c5",
   "metadata": {},
   "source": [
    "## I now do the prediction based on the best hyperparameters"
   ]
  },
  {
   "cell_type": "code",
   "execution_count": null,
   "id": "d0c886ae",
   "metadata": {},
   "outputs": [],
   "source": [
    "text_transformer = TfidfVectorizer(vocabulary=common_vocabulary, ngram_range=tfidf__ngram_range, lowercase=True, max_features=150000)\n",
    "clf= LinearSVC(class_weight=clf__class_weight, penalty=clf__penalty)"
   ]
  },
  {
   "cell_type": "code",
   "execution_count": null,
   "id": "1a90835e",
   "metadata": {},
   "outputs": [],
   "source": [
    "x_test=balanced_test_data_caa[[id_field, source_field]]\n",
    "y_test=balanced_test_data_caa[target_field]"
   ]
  },
  {
   "cell_type": "code",
   "execution_count": null,
   "id": "8e825036",
   "metadata": {},
   "outputs": [],
   "source": [
    "X_train_text = text_transformer.fit_transform(x_train[source_field])\n",
    "X_test_text = text_transformer.transform(x_test[source_field])"
   ]
  },
  {
   "cell_type": "code",
   "execution_count": null,
   "id": "4b3241bd",
   "metadata": {
    "scrolled": false
   },
   "outputs": [],
   "source": [
    "clf.fit(X_train_text, y_train)\n",
    "X_test_caa = text_transformer.transform(x_test[source_field])"
   ]
  },
  {
   "cell_type": "code",
   "execution_count": null,
   "id": "37a32239",
   "metadata": {},
   "outputs": [],
   "source": [
    "y_preds_caa = clf.predict(X_test_caa)"
   ]
  },
  {
   "cell_type": "code",
   "execution_count": null,
   "id": "04666818",
   "metadata": {},
   "outputs": [],
   "source": [
    "print(classification_report(y_test, y_preds_caa))"
   ]
  },
  {
   "cell_type": "code",
   "execution_count": null,
   "id": "e67389aa",
   "metadata": {},
   "outputs": [],
   "source": [
    "accuracy_score(y_test_balanced, y_preds_balanced)"
   ]
  },
  {
   "cell_type": "code",
   "execution_count": null,
   "id": "082d8fad",
   "metadata": {},
   "outputs": [],
   "source": [
    "accuracy_score(y_test, y_preds_caa)"
   ]
  },
  {
   "cell_type": "markdown",
   "id": "6daf9227",
   "metadata": {},
   "source": [
    "## I test on unbalanced caa"
   ]
  },
  {
   "cell_type": "code",
   "execution_count": null,
   "id": "445d3b6c",
   "metadata": {},
   "outputs": [],
   "source": [
    "id_field=\"RecordID\"\n",
    "source_field=\"title\"\n",
    "target_field=\"monolingual\""
   ]
  },
  {
   "cell_type": "code",
   "execution_count": null,
   "id": "d2a3b09a",
   "metadata": {},
   "outputs": [],
   "source": [
    "x_test=test_data_caa[[id_field, source_field]]\n",
    "y_test=test_data_caa[target_field]"
   ]
  },
  {
   "cell_type": "code",
   "execution_count": null,
   "id": "3e1601cc",
   "metadata": {},
   "outputs": [],
   "source": [
    "X_test_text = text_transformer.transform(x_test[source_field])\n",
    "test_preds=clf.predict(X_test_text)"
   ]
  },
  {
   "cell_type": "code",
   "execution_count": null,
   "id": "8eb7bf89",
   "metadata": {},
   "outputs": [],
   "source": [
    "print(classification_report(y_test, test_preds))"
   ]
  },
  {
   "cell_type": "code",
   "execution_count": null,
   "id": "d192a486",
   "metadata": {},
   "outputs": [],
   "source": [
    "accuracy_score(y_test, test_preds)"
   ]
  },
  {
   "cell_type": "markdown",
   "id": "39d0a752",
   "metadata": {},
   "source": [
    "## I test on ECCO"
   ]
  },
  {
   "cell_type": "code",
   "execution_count": null,
   "id": "8e14093a",
   "metadata": {},
   "outputs": [],
   "source": [
    "id_field=\"estc_id\"\n",
    "source_field=\"ecco_full_title\"\n",
    "target_field=\"monolingual\""
   ]
  },
  {
   "cell_type": "code",
   "execution_count": null,
   "id": "bf55ea86",
   "metadata": {},
   "outputs": [],
   "source": [
    "x_test=test_data_ecco[[id_field, source_field]]\n",
    "y_test=test_data_ecco[target_field]"
   ]
  },
  {
   "cell_type": "code",
   "execution_count": null,
   "id": "76c2f8c1",
   "metadata": {},
   "outputs": [],
   "source": [
    "X_test_text = text_transformer.transform(x_test[source_field])\n",
    "test_preds=clf.predict(X_test_text)"
   ]
  },
  {
   "cell_type": "code",
   "execution_count": null,
   "id": "101cb269",
   "metadata": {},
   "outputs": [],
   "source": [
    "print(classification_report(y_test, test_preds))"
   ]
  },
  {
   "cell_type": "code",
   "execution_count": null,
   "id": "0bca67b0",
   "metadata": {},
   "outputs": [],
   "source": [
    "accuracy_score(y_test, test_preds)"
   ]
  }
 ],
 "metadata": {
  "kernelspec": {
   "display_name": "base",
   "language": "python",
   "name": "python3"
  },
  "language_info": {
   "codemirror_mode": {
    "name": "ipython",
    "version": 3
   },
   "file_extension": ".py",
   "mimetype": "text/x-python",
   "name": "python",
   "nbconvert_exporter": "python",
   "pygments_lexer": "ipython3",
   "version": "3.8.3"
  }
 },
 "nbformat": 4,
 "nbformat_minor": 5
}
