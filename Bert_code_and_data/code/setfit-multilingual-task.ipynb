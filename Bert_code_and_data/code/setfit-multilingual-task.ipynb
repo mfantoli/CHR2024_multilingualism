{
 "cells": [
  {
   "cell_type": "code",
   "execution_count": 2,
   "id": "b6c15355-92cc-472c-bb28-0c59f5fa452c",
   "metadata": {},
   "outputs": [],
   "source": [
    "import pandas as pd\n",
    "\n",
    "from datasets import Dataset, load_dataset, ClassLabel, DatasetDict"
   ]
  },
  {
   "cell_type": "code",
   "execution_count": 3,
   "id": "c73b2b50-daf4-47e4-aeaa-e531f8502d61",
   "metadata": {},
   "outputs": [],
   "source": [
    "ecco_train_df = pd.read_csv('../data/multilingual-task-data/ecco_train_no_dupl.csv')\n",
    "ecco_test_df = pd.read_csv('../data/multilingual-task-data/ecco_test_no_dupl.csv')\n",
    "\n",
    "ecco_train_df.rename(columns={\"monolingual\": \"label\", \"ecco_full_title\": \"text\"}, inplace=True)\n",
    "ecco_test_df.rename(columns={\"monolingual\": \"label\", \"ecco_full_title\": \"text\"}, inplace=True)\n",
    "\n",
    "ecco_train_dataset = Dataset.from_pandas(ecco_train_df)\n",
    "ecco_test_dataset = Dataset.from_pandas(ecco_test_df)\n",
    "\n",
    "ecco = DatasetDict({\"train\": ecco_train_dataset,\n",
    "                       \"test\": ecco_test_dataset,})"
   ]
  },
  {
   "cell_type": "code",
   "execution_count": 4,
   "id": "a4cd8a72-6eab-4729-b137-1f4044427714",
   "metadata": {},
   "outputs": [],
   "source": [
    "caa_train_df = pd.read_csv('../data/multilingual-task-data/caa_train_df.csv')\n",
    "caa_test_df = pd.read_csv('../data/multilingual-task-data/caa_test_df.csv')\n",
    "\n",
    "caa_train_df.rename(columns={\"monolingual\": \"label\", \"title\": \"text\"}, inplace=True)\n",
    "caa_test_df.rename(columns={\"monolingual\": \"label\", \"title\": \"text\"}, inplace=True)\n",
    "\n",
    "caa_train_dataset = Dataset.from_pandas(caa_train_df)\n",
    "caa_test_dataset = Dataset.from_pandas(caa_test_df)\n",
    "\n",
    "caa = DatasetDict({\"train\": caa_train_dataset,\n",
    "                       \"test\": caa_test_dataset,})"
   ]
  },
  {
   "cell_type": "code",
   "execution_count": 5,
   "id": "3f5299ed-65ac-4f18-af49-34628bcf9df7",
   "metadata": {},
   "outputs": [],
   "source": [
    "balanced_caa_train_df = pd.read_csv('../data/multilingual-task-data/few_shot_mono_train.csv')\n",
    "balanced_caa_test_df = pd.read_csv('../data/multilingual-task-data/few_shot_mono_test.csv')\n",
    "\n",
    "balanced_caa_train_df.rename(columns={\"monolingual\": \"label\", \"title\": \"text\"}, inplace=True)\n",
    "balanced_caa_test_df.rename(columns={\"monolingual\": \"label\", \"title\": \"text\"}, inplace=True)\n",
    "\n",
    "balanced_caa_train_dataset = Dataset.from_pandas(balanced_caa_train_df)\n",
    "balanced_caa_test_dataset = Dataset.from_pandas(balanced_caa_test_df)\n",
    "\n",
    "balanced_caa = DatasetDict({\"train\": balanced_caa_train_dataset,\n",
    "                       \"test\": balanced_caa_test_dataset,})"
   ]
  },
  {
   "cell_type": "code",
   "execution_count": 6,
   "id": "2df72979-2a52-4e03-b402-6bf3dcbc21d2",
   "metadata": {},
   "outputs": [],
   "source": [
    "combined_train_df = pd.read_csv('../data/multilingual-task-data/combined_train_no_dupl.csv')\n",
    "combined_test_df = pd.read_csv('../data/multilingual-task-data/combined_test_no_dupl.csv')\n",
    "\n",
    "combined_train_df.rename(columns={\"monolingual\": \"label\", \"title\": \"text\"}, inplace=True)\n",
    "combined_test_df.rename(columns={\"monolingual\": \"label\", \"title\": \"text\"}, inplace=True)\n",
    "\n",
    "combined_train_dataset = Dataset.from_pandas(combined_train_df)\n",
    "combined_test_dataset = Dataset.from_pandas(combined_test_df)\n",
    "\n",
    "combined = DatasetDict({\"train\": combined_train_dataset,\n",
    "                       \"test\": combined_test_dataset,})"
   ]
  },
  {
   "cell_type": "markdown",
   "id": "058c7bfa-487b-4022-b846-5927c50d8539",
   "metadata": {},
   "source": [
    "# Trained on CAA"
   ]
  },
  {
   "cell_type": "code",
   "execution_count": 8,
   "id": "578ce36d-a057-4648-8a59-702d2dcccd89",
   "metadata": {},
   "outputs": [
    {
     "name": "stderr",
     "output_type": "stream",
     "text": [
      "/home/pricie/mfantoli/miniconda3/lib/python3.9/site-packages/huggingface_hub/file_download.py:1132: FutureWarning: `resume_download` is deprecated and will be removed in version 1.0.0. Downloads always resume when possible. If you want to force a new download, use `force_download=True`.\n",
      "  warnings.warn(\n"
     ]
    }
   ],
   "source": [
    "from transformers import AutoTokenizer\n",
    "\n",
    "tokenizer = AutoTokenizer.from_pretrained(\"sentence-transformers/distiluse-base-multilingual-cased-v2\")"
   ]
  },
  {
   "cell_type": "code",
   "execution_count": 9,
   "id": "d32edf34-fc8d-4ad0-86eb-6a75f0b8004f",
   "metadata": {},
   "outputs": [],
   "source": [
    "from sentence_transformers.losses import CosineSimilarityLoss\n",
    "from setfit import SetFitModel, SetFitTrainer"
   ]
  },
  {
   "cell_type": "code",
   "execution_count": 10,
   "id": "437bd0da-e74f-4e34-a34f-79b1c19f3d13",
   "metadata": {},
   "outputs": [
    {
     "name": "stderr",
     "output_type": "stream",
     "text": [
      "/home/pricie/mfantoli/miniconda3/lib/python3.9/site-packages/huggingface_hub/file_download.py:1132: FutureWarning: `resume_download` is deprecated and will be removed in version 1.0.0. Downloads always resume when possible. If you want to force a new download, use `force_download=True`.\n",
      "  warnings.warn(\n",
      "model_head.pkl not found on HuggingFace Hub, initialising classification head with random weights. You should TRAIN this model on a downstream task to use it for predictions and inference.\n",
      "/tmp/ipykernel_2249736/1262924370.py:5: DeprecationWarning: `SetFitTrainer` has been deprecated and will be removed in v2.0.0 of SetFit. Please use `Trainer` instead.\n",
      "  trainer = SetFitTrainer(\n"
     ]
    },
    {
     "data": {
      "application/vnd.jupyter.widget-view+json": {
       "model_id": "d2b8d9d867bf4c90bb441f7995aceadc",
       "version_major": 2,
       "version_minor": 0
      },
      "text/plain": [
       "Map:   0%|          | 0/80 [00:00<?, ? examples/s]"
      ]
     },
     "metadata": {},
     "output_type": "display_data"
    }
   ],
   "source": [
    "# Load SetFit model from Hub\n",
    "setfitmodel = SetFitModel.from_pretrained(\"sentence-transformers/distiluse-base-multilingual-cased-v2\")\n",
    "\n",
    "# Create trainer\n",
    "trainer = SetFitTrainer(\n",
    "    model=setfitmodel,\n",
    "    train_dataset=balanced_caa['train'],\n",
    "    eval_dataset=balanced_caa['test'],\n",
    "    loss_class=CosineSimilarityLoss,\n",
    "    batch_size=16,\n",
    "    num_iterations=20, # Number of text pairs to generate for contrastive learning\n",
    "    num_epochs=3 # Number of epochs to use for contrastive learning\n",
    ")\n"
   ]
  },
  {
   "cell_type": "code",
   "execution_count": 12,
   "id": "f1f86c91-2cf1-4885-8ee2-7bb47c046351",
   "metadata": {},
   "outputs": [
    {
     "name": "stderr",
     "output_type": "stream",
     "text": [
      "***** Running training *****\n",
      "  Num unique pairs = 3200\n",
      "  Batch size = 16\n",
      "  Num epochs = 3\n",
      "  Total optimization steps = 600\n"
     ]
    },
    {
     "data": {
      "text/html": [
       "\n",
       "    <div>\n",
       "      \n",
       "      <progress value='600' max='600' style='width:300px; height:20px; vertical-align: middle;'></progress>\n",
       "      [600/600 01:42, Epoch 3/0]\n",
       "    </div>\n",
       "    <table border=\"1\" class=\"dataframe\">\n",
       "  <thead>\n",
       " <tr style=\"text-align: left;\">\n",
       "      <th>Step</th>\n",
       "      <th>Training Loss</th>\n",
       "    </tr>\n",
       "  </thead>\n",
       "  <tbody>\n",
       "  </tbody>\n",
       "</table><p>"
      ],
      "text/plain": [
       "<IPython.core.display.HTML object>"
      ]
     },
     "metadata": {},
     "output_type": "display_data"
    },
    {
     "name": "stderr",
     "output_type": "stream",
     "text": [
      "***** Running evaluation *****\n"
     ]
    }
   ],
   "source": [
    "trainer.train()\n",
    "metrics = trainer.evaluate()\n",
    "# trainer.save_model(\"setfit_models_monolingual/balanced_caa\")"
   ]
  },
  {
   "cell_type": "code",
   "execution_count": 13,
   "id": "a446b949-782f-4aeb-b356-1ccd3ea92e44",
   "metadata": {},
   "outputs": [],
   "source": [
    "from sklearn import metrics\n",
    "\n",
    "from sklearn.metrics import classification_report\n",
    "\n",
    "predictions = setfitmodel.predict(balanced_caa['test']['text'])\n",
    "\n",
    "preds = predictions.tolist()\n",
    "\n",
    "true = balanced_caa['test']['label']\n",
    "\n",
    "setfit_eval_results = classification_report(true, preds, output_dict=True)"
   ]
  },
  {
   "cell_type": "code",
   "execution_count": 14,
   "id": "17a07a77-41d1-4df8-aa33-d8829ea94d82",
   "metadata": {},
   "outputs": [],
   "source": [
    "# Tested on CAA\n",
    "\n",
    "predictions = setfitmodel.predict(caa['test']['text'])\n",
    "preds = predictions.tolist()\n",
    "true = caa['test']['label']\n",
    "\n",
    "setfit_caa_eval_results = classification_report(true, preds, output_dict=True)"
   ]
  },
  {
   "cell_type": "code",
   "execution_count": 15,
   "id": "6fb659f4-95df-4d43-9916-04cd100e51ed",
   "metadata": {},
   "outputs": [],
   "source": [
    "# Tested on ECCO\n",
    "\n",
    "predictions = setfitmodel.predict(ecco['test']['text'])\n",
    "preds = predictions.tolist()\n",
    "true = ecco['test']['label']\n",
    "\n",
    "setfit_ecco_eval_results = classification_report(true, preds, output_dict=True)"
   ]
  },
  {
   "cell_type": "code",
   "execution_count": 16,
   "id": "9256641e-a9b7-41e4-acd7-8b808eba5a0e",
   "metadata": {},
   "outputs": [],
   "source": [
    "# Tested on Combined\n",
    "\n",
    "predictions = setfitmodel.predict(combined['test']['text'])\n",
    "preds = predictions.tolist()\n",
    "true = combined['test']['label']\n",
    "\n",
    "setfit_combined_eval_results = classification_report(true, preds, output_dict=True)"
   ]
  },
  {
   "cell_type": "code",
   "execution_count": 17,
   "id": "bcd2757a-e733-4c64-adbe-3ec0d0e114bc",
   "metadata": {},
   "outputs": [
    {
     "data": {
      "text/html": [
       "<div>\n",
       "<style scoped>\n",
       "    .dataframe tbody tr th:only-of-type {\n",
       "        vertical-align: middle;\n",
       "    }\n",
       "\n",
       "    .dataframe tbody tr th {\n",
       "        vertical-align: top;\n",
       "    }\n",
       "\n",
       "    .dataframe thead th {\n",
       "        text-align: right;\n",
       "    }\n",
       "</style>\n",
       "<table border=\"1\" class=\"dataframe\">\n",
       "  <thead>\n",
       "    <tr style=\"text-align: right;\">\n",
       "      <th></th>\n",
       "      <th>DictName</th>\n",
       "      <th>accuracy</th>\n",
       "      <th>0_precision</th>\n",
       "      <th>0_recall</th>\n",
       "      <th>0_f1-score</th>\n",
       "      <th>0_support</th>\n",
       "      <th>1_precision</th>\n",
       "      <th>1_recall</th>\n",
       "      <th>1_f1-score</th>\n",
       "      <th>1_support</th>\n",
       "      <th>macro avg_precision</th>\n",
       "      <th>macro avg_recall</th>\n",
       "      <th>macro avg_f1-score</th>\n",
       "      <th>macro avg_support</th>\n",
       "      <th>weighted avg_precision</th>\n",
       "      <th>weighted avg_recall</th>\n",
       "      <th>weighted avg_f1-score</th>\n",
       "      <th>weighted avg_support</th>\n",
       "    </tr>\n",
       "  </thead>\n",
       "  <tbody>\n",
       "    <tr>\n",
       "      <th>0</th>\n",
       "      <td>setfit_eval_results</td>\n",
       "      <td>0.950000</td>\n",
       "      <td>0.909091</td>\n",
       "      <td>1.000000</td>\n",
       "      <td>0.952381</td>\n",
       "      <td>10.0</td>\n",
       "      <td>1.000000</td>\n",
       "      <td>0.900000</td>\n",
       "      <td>0.947368</td>\n",
       "      <td>10.0</td>\n",
       "      <td>0.954545</td>\n",
       "      <td>0.950000</td>\n",
       "      <td>0.949875</td>\n",
       "      <td>20.0</td>\n",
       "      <td>0.954545</td>\n",
       "      <td>0.950000</td>\n",
       "      <td>0.949875</td>\n",
       "      <td>20.0</td>\n",
       "    </tr>\n",
       "    <tr>\n",
       "      <th>1</th>\n",
       "      <td>setfit_caa_eval_results</td>\n",
       "      <td>0.818306</td>\n",
       "      <td>0.102362</td>\n",
       "      <td>0.406250</td>\n",
       "      <td>0.163522</td>\n",
       "      <td>32.0</td>\n",
       "      <td>0.968595</td>\n",
       "      <td>0.837143</td>\n",
       "      <td>0.898084</td>\n",
       "      <td>700.0</td>\n",
       "      <td>0.535479</td>\n",
       "      <td>0.621696</td>\n",
       "      <td>0.530803</td>\n",
       "      <td>732.0</td>\n",
       "      <td>0.930727</td>\n",
       "      <td>0.818306</td>\n",
       "      <td>0.865972</td>\n",
       "      <td>732.0</td>\n",
       "    </tr>\n",
       "    <tr>\n",
       "      <th>2</th>\n",
       "      <td>setfit_ecco_eval_results</td>\n",
       "      <td>0.658747</td>\n",
       "      <td>0.380734</td>\n",
       "      <td>0.783019</td>\n",
       "      <td>0.512346</td>\n",
       "      <td>106.0</td>\n",
       "      <td>0.906122</td>\n",
       "      <td>0.621849</td>\n",
       "      <td>0.737542</td>\n",
       "      <td>357.0</td>\n",
       "      <td>0.643428</td>\n",
       "      <td>0.702434</td>\n",
       "      <td>0.624944</td>\n",
       "      <td>463.0</td>\n",
       "      <td>0.785839</td>\n",
       "      <td>0.658747</td>\n",
       "      <td>0.685985</td>\n",
       "      <td>463.0</td>\n",
       "    </tr>\n",
       "    <tr>\n",
       "      <th>3</th>\n",
       "      <td>setfit_combined_eval_results</td>\n",
       "      <td>0.728033</td>\n",
       "      <td>0.295285</td>\n",
       "      <td>0.743750</td>\n",
       "      <td>0.422735</td>\n",
       "      <td>160.0</td>\n",
       "      <td>0.948232</td>\n",
       "      <td>0.725604</td>\n",
       "      <td>0.822113</td>\n",
       "      <td>1035.0</td>\n",
       "      <td>0.621759</td>\n",
       "      <td>0.734677</td>\n",
       "      <td>0.622424</td>\n",
       "      <td>1195.0</td>\n",
       "      <td>0.860808</td>\n",
       "      <td>0.728033</td>\n",
       "      <td>0.768640</td>\n",
       "      <td>1195.0</td>\n",
       "    </tr>\n",
       "  </tbody>\n",
       "</table>\n",
       "</div>"
      ],
      "text/plain": [
       "                       DictName  accuracy  0_precision  0_recall  0_f1-score  \\\n",
       "0           setfit_eval_results  0.950000     0.909091  1.000000    0.952381   \n",
       "1       setfit_caa_eval_results  0.818306     0.102362  0.406250    0.163522   \n",
       "2      setfit_ecco_eval_results  0.658747     0.380734  0.783019    0.512346   \n",
       "3  setfit_combined_eval_results  0.728033     0.295285  0.743750    0.422735   \n",
       "\n",
       "   0_support  1_precision  1_recall  1_f1-score  1_support  \\\n",
       "0       10.0     1.000000  0.900000    0.947368       10.0   \n",
       "1       32.0     0.968595  0.837143    0.898084      700.0   \n",
       "2      106.0     0.906122  0.621849    0.737542      357.0   \n",
       "3      160.0     0.948232  0.725604    0.822113     1035.0   \n",
       "\n",
       "   macro avg_precision  macro avg_recall  macro avg_f1-score  \\\n",
       "0             0.954545          0.950000            0.949875   \n",
       "1             0.535479          0.621696            0.530803   \n",
       "2             0.643428          0.702434            0.624944   \n",
       "3             0.621759          0.734677            0.622424   \n",
       "\n",
       "   macro avg_support  weighted avg_precision  weighted avg_recall  \\\n",
       "0               20.0                0.954545             0.950000   \n",
       "1              732.0                0.930727             0.818306   \n",
       "2              463.0                0.785839             0.658747   \n",
       "3             1195.0                0.860808             0.728033   \n",
       "\n",
       "   weighted avg_f1-score  weighted avg_support  \n",
       "0               0.949875                  20.0  \n",
       "1               0.865972                 732.0  \n",
       "2               0.685985                 463.0  \n",
       "3               0.768640                1195.0  "
      ]
     },
     "execution_count": 17,
     "metadata": {},
     "output_type": "execute_result"
    }
   ],
   "source": [
    "def list_eval_results_dictionaries():\n",
    "    return {name: value for name, value in globals().items() if isinstance(value, dict) and 'eval_results' in name}\n",
    "\n",
    "eval_result_dictionaries = list_eval_results_dictionaries()\n",
    "\n",
    "dict_list = [{'DictName': name, ** eval_result_dictionaries[name]} for name in eval_result_dictionaries]\n",
    "\n",
    "dict_df = pd.DataFrame(dict_list)\n",
    "\n",
    "#dict_df = dict_df[['DictName'] + sorted(dict_df.columns.drop('DictName'),tolist())]\n",
    "\n",
    "\n",
    "def expand_dict_columns(df):\n",
    "    dict_columns = [col for col in df.columns if isinstance(df[col][0], dict)]\n",
    "    expanded_cols = []\n",
    "    for col in dict_columns:\n",
    "        expanded = pd.json_normalize(df[col])\n",
    "        expanded.columns = [f\"{col}_{key}\" for key in expanded.columns]\n",
    "        expanded_cols.append(expanded)\n",
    "    df = df.drop(columns=dict_columns)\n",
    "    if expanded_cols:\n",
    "        expanded_cols_df = pd.concat(expanded_cols, axis=1)\n",
    "        df = pd.concat([df, expanded_cols_df], axis=1)\n",
    "    return df\n",
    "\n",
    "\n",
    "dff = expand_dict_columns(dict_df)\n",
    "\n",
    "dff"
   ]
  },
  {
   "cell_type": "code",
   "execution_count": 19,
   "id": "44541c77-3ce0-4445-a1cf-aba9c89ac19d",
   "metadata": {},
   "outputs": [],
   "source": [
    "dff.to_csv('../results/setfit-multilingual-task.csv',index=False)"
   ]
  },
  {
   "cell_type": "code",
   "execution_count": null,
   "id": "02ed895c-30cc-4380-af36-d099239f2ac1",
   "metadata": {},
   "outputs": [],
   "source": []
  }
 ],
 "metadata": {
  "kernelspec": {
   "display_name": "Python 3 (ipykernel)",
   "language": "python",
   "name": "python3"
  },
  "language_info": {
   "codemirror_mode": {
    "name": "ipython",
    "version": 3
   },
   "file_extension": ".py",
   "mimetype": "text/x-python",
   "name": "python",
   "nbconvert_exporter": "python",
   "pygments_lexer": "ipython3",
   "version": "3.9.19"
  }
 },
 "nbformat": 4,
 "nbformat_minor": 5
}
